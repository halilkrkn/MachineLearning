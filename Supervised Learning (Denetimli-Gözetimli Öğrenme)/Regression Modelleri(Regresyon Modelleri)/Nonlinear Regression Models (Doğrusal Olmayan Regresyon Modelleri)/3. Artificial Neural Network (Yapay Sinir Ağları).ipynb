{
 "cells": [
  {
   "cell_type": "markdown",
   "metadata": {},
   "source": [
    "# Artificial Neural Network (Yapay Sinir Ağları)"
   ]
  },
  {
   "cell_type": "markdown",
   "metadata": {},
   "source": [
    "- İnsan beyininin bilgi işleme şeklini referans alan sınıflandırma ve regresyon problemleri için kullanılabilen kuvvetli makine öğrewnmesi algoritmalarından birisidir.\n",
    "- **Amaç**, en küçük hata ile tahmin yapabilecek katsayılara erişmektir. \n",
    "- Makine öğrenmesi içerisinde görüntü işleme, ses işleme, ve metin işleme gibi problemlerde de kullanılan bir algoritmadır.\n",
    "\n",
    "\n",
    "- **Çok Katmanlı Yapa Sinir Ağlarının Gerçekleştirilme Basamakları**\n",
    "- Örnek veri seti toplanır.\n",
    "- Ağın topolojik yapısına karar verilir.\n",
    "- Ağda bulunan ağırlıklara başlangıç değeri atanır.\n",
    "- Örnek veri seti ağda sunulur.\n",
    "- İleri hesaplama işlemi yapılır.\n",
    "- Gerçek çıktılar ile tahmin çıktıları karşılaştırılır. Öğrenmenin tamamlanması basamakları gerçekleştirilir.\n",
    "- **Amaç**, gerçek değerler ile tahmin edilen değerler arasındaki farkı minimum yapmaktır."
   ]
  },
  {
   "cell_type": "markdown",
   "metadata": {},
   "source": [
    "**Gerekli Kütüphaneler** "
   ]
  },
  {
   "cell_type": "code",
   "execution_count": 2,
   "metadata": {},
   "outputs": [],
   "source": [
    "import numpy as np\n",
    "import pandas as pd\n",
    "import matplotlib.pyplot as plt\n",
    "from sklearn.model_selection import train_test_split,GridSearchCV\n",
    "from sklearn.metrics import mean_squared_error, r2_score\n",
    "from sklearn.preprocessing import scale, StandardScaler\n",
    "from sklearn import model_selection\n",
    "from sklearn.linear_model import LinearRegression\n",
    "from sklearn.tree import DecisionTreeRegressor\n",
    "from sklearn.neighbors import KNeighborsRegressor\n",
    "from sklearn.neural_network import MLPRegressor\n",
    "from sklearn.ensemble import RandomForestRegressor, GradientBoostingRegressor\n",
    "from sklearn import  neighbors\n",
    "from sklearn.svm import SVR"
   ]
  },
  {
   "cell_type": "code",
   "execution_count": 3,
   "metadata": {},
   "outputs": [],
   "source": [
    "# Uyarı Mesajları ile Karşılaşmamak için bu kütüphaneyi kullanıyoruz.\n",
    "from warnings import filterwarnings\n",
    "filterwarnings(\"ignore\")"
   ]
  },
  {
   "cell_type": "markdown",
   "metadata": {},
   "source": [
    "# Artificial Neural Network - Model ve Tahmin İşlemleri "
   ]
  },
  {
   "cell_type": "code",
   "execution_count": 4,
   "metadata": {},
   "outputs": [],
   "source": [
    "df = pd.read_csv(\"./Hitters.csv\")\n",
    "# bu csv dosyasının içerisinde eksik gözlemleri(NA) çıkardık.\n",
    "df = df.dropna()\n",
    "\n",
    "# Veri seti içerisindeki kategorik değişkenleri dummy değişkenlere çeviriyoruz.\n",
    "dms = pd.get_dummies(df[[\"League\",\"Division\",\"NewLeague\"]])\n",
    "\n",
    "# bağımlı değişken\n",
    "y = df[[\"Salary\"]]\n",
    "\n",
    "# Veri Setinin içerisinden Bağımlı Değişkeni ve Kategorik değişkenlerin ilk hallerini dışarı bırakıyoruz.\n",
    "X_ = df.drop([\"Salary\",\"League\",\"Division\",\"NewLeague\"], axis = 1).astype(\"float64\")\n",
    "\n",
    "# dms ile X_ birleştirip(concat) bağımsız değişken oluşturduk.\n",
    "X = pd.concat([X_, dms[[\"League_N\",\"Division_W\",\"NewLeague_N\"]]], axis=1)\n",
    "\n",
    "# train ve test setlerimizi oluşturuyoruz.\n",
    "X_train, X_test, y_train, y_test = train_test_split(X,\n",
    "                                                    y,\n",
    "                                                    test_size = 0.25,\n",
    "                                                    random_state= 42) "
   ]
  },
  {
   "cell_type": "markdown",
   "metadata": {},
   "source": [
    "**Model**"
   ]
  },
  {
   "cell_type": "code",
   "execution_count": 22,
   "metadata": {},
   "outputs": [],
   "source": [
    "# StandardScaler, bir dönüştürme görevi vardır. standartlaştırma işlemi yapıldı.\n",
    "scaler = StandardScaler()"
   ]
  },
  {
   "cell_type": "code",
   "execution_count": 6,
   "metadata": {
    "collapsed": true,
    "jupyter": {
     "outputs_hidden": true
    }
   },
   "outputs": [
    {
     "data": {
      "text/plain": [
       "\u001b[1;31mType:\u001b[0m        StandardScaler\n",
       "\u001b[1;31mString form:\u001b[0m StandardScaler()\n",
       "\u001b[1;31mFile:\u001b[0m        c:\\users\\halil\\anaconda3\\lib\\site-packages\\sklearn\\preprocessing\\_data.py\n",
       "\u001b[1;31mDocstring:\u001b[0m  \n",
       "Standardize features by removing the mean and scaling to unit variance\n",
       "\n",
       "The standard score of a sample `x` is calculated as:\n",
       "\n",
       "    z = (x - u) / s\n",
       "\n",
       "where `u` is the mean of the training samples or zero if `with_mean=False`,\n",
       "and `s` is the standard deviation of the training samples or one if\n",
       "`with_std=False`.\n",
       "\n",
       "Centering and scaling happen independently on each feature by computing\n",
       "the relevant statistics on the samples in the training set. Mean and\n",
       "standard deviation are then stored to be used on later data using\n",
       ":meth:`transform`.\n",
       "\n",
       "Standardization of a dataset is a common requirement for many\n",
       "machine learning estimators: they might behave badly if the\n",
       "individual features do not more or less look like standard normally\n",
       "distributed data (e.g. Gaussian with 0 mean and unit variance).\n",
       "\n",
       "For instance many elements used in the objective function of\n",
       "a learning algorithm (such as the RBF kernel of Support Vector\n",
       "Machines or the L1 and L2 regularizers of linear models) assume that\n",
       "all features are centered around 0 and have variance in the same\n",
       "order. If a feature has a variance that is orders of magnitude larger\n",
       "that others, it might dominate the objective function and make the\n",
       "estimator unable to learn from other features correctly as expected.\n",
       "\n",
       "This scaler can also be applied to sparse CSR or CSC matrices by passing\n",
       "`with_mean=False` to avoid breaking the sparsity structure of the data.\n",
       "\n",
       "Read more in the :ref:`User Guide <preprocessing_scaler>`.\n",
       "\n",
       "Parameters\n",
       "----------\n",
       "copy : boolean, optional, default True\n",
       "    If False, try to avoid a copy and do inplace scaling instead.\n",
       "    This is not guaranteed to always work inplace; e.g. if the data is\n",
       "    not a NumPy array or scipy.sparse CSR matrix, a copy may still be\n",
       "    returned.\n",
       "\n",
       "with_mean : boolean, True by default\n",
       "    If True, center the data before scaling.\n",
       "    This does not work (and will raise an exception) when attempted on\n",
       "    sparse matrices, because centering them entails building a dense\n",
       "    matrix which in common use cases is likely to be too large to fit in\n",
       "    memory.\n",
       "\n",
       "with_std : boolean, True by default\n",
       "    If True, scale the data to unit variance (or equivalently,\n",
       "    unit standard deviation).\n",
       "\n",
       "Attributes\n",
       "----------\n",
       "scale_ : ndarray or None, shape (n_features,)\n",
       "    Per feature relative scaling of the data. This is calculated using\n",
       "    `np.sqrt(var_)`. Equal to ``None`` when ``with_std=False``.\n",
       "\n",
       "    .. versionadded:: 0.17\n",
       "       *scale_*\n",
       "\n",
       "mean_ : ndarray or None, shape (n_features,)\n",
       "    The mean value for each feature in the training set.\n",
       "    Equal to ``None`` when ``with_mean=False``.\n",
       "\n",
       "var_ : ndarray or None, shape (n_features,)\n",
       "    The variance for each feature in the training set. Used to compute\n",
       "    `scale_`. Equal to ``None`` when ``with_std=False``.\n",
       "\n",
       "n_samples_seen_ : int or array, shape (n_features,)\n",
       "    The number of samples processed by the estimator for each feature.\n",
       "    If there are not missing samples, the ``n_samples_seen`` will be an\n",
       "    integer, otherwise it will be an array.\n",
       "    Will be reset on new calls to fit, but increments across\n",
       "    ``partial_fit`` calls.\n",
       "\n",
       "Examples\n",
       "--------\n",
       ">>> from sklearn.preprocessing import StandardScaler\n",
       ">>> data = [[0, 0], [0, 0], [1, 1], [1, 1]]\n",
       ">>> scaler = StandardScaler()\n",
       ">>> print(scaler.fit(data))\n",
       "StandardScaler()\n",
       ">>> print(scaler.mean_)\n",
       "[0.5 0.5]\n",
       ">>> print(scaler.transform(data))\n",
       "[[-1. -1.]\n",
       " [-1. -1.]\n",
       " [ 1.  1.]\n",
       " [ 1.  1.]]\n",
       ">>> print(scaler.transform([[2, 2]]))\n",
       "[[3. 3.]]\n",
       "\n",
       "See also\n",
       "--------\n",
       "scale: Equivalent function without the estimator API.\n",
       "\n",
       ":class:`sklearn.decomposition.PCA`\n",
       "    Further removes the linear correlation across features with 'whiten=True'.\n",
       "\n",
       "Notes\n",
       "-----\n",
       "NaNs are treated as missing values: disregarded in fit, and maintained in\n",
       "transform.\n",
       "\n",
       "We use a biased estimator for the standard deviation, equivalent to\n",
       "`numpy.std(x, ddof=0)`. Note that the choice of `ddof` is unlikely to\n",
       "affect model performance.\n",
       "\n",
       "For a comparison of the different scalers, transformers, and normalizers,\n",
       "see :ref:`examples/preprocessing/plot_all_scaling.py\n",
       "<sphx_glr_auto_examples_preprocessing_plot_all_scaling.py>`.\n"
      ]
     },
     "metadata": {},
     "output_type": "display_data"
    }
   ],
   "source": [
    "?scaler"
   ]
  },
  {
   "cell_type": "code",
   "execution_count": 23,
   "metadata": {},
   "outputs": [],
   "source": [
    "scaler.fit(X_train)\n",
    "X_train_scaled = scaler.transform(X_train)\n",
    "scaler.fit(X_test)\n",
    "X_test_scaled = scaler.transform(X_test)"
   ]
  },
  {
   "cell_type": "code",
   "execution_count": 24,
   "metadata": {},
   "outputs": [],
   "source": [
    "# mlp = çok katmanlı algılayıcı\n",
    "mlp_model = MLPRegressor().fit(X_train_scaled,y_train)"
   ]
  },
  {
   "cell_type": "code",
   "execution_count": 25,
   "metadata": {
    "collapsed": true,
    "jupyter": {
     "outputs_hidden": true
    }
   },
   "outputs": [
    {
     "data": {
      "text/plain": [
       "\u001b[1;31mType:\u001b[0m        MLPRegressor\n",
       "\u001b[1;31mString form:\u001b[0m MLPRegressor()\n",
       "\u001b[1;31mFile:\u001b[0m        c:\\users\\halil\\anaconda3\\lib\\site-packages\\sklearn\\neural_network\\_multilayer_perceptron.py\n",
       "\u001b[1;31mDocstring:\u001b[0m  \n",
       "Multi-layer Perceptron regressor.\n",
       "\n",
       "This model optimizes the squared-loss using LBFGS or stochastic gradient\n",
       "descent.\n",
       "\n",
       ".. versionadded:: 0.18\n",
       "\n",
       "Parameters\n",
       "----------\n",
       "hidden_layer_sizes : tuple, length = n_layers - 2, default=(100,)\n",
       "    The ith element represents the number of neurons in the ith\n",
       "    hidden layer.\n",
       "\n",
       "activation : {'identity', 'logistic', 'tanh', 'relu'}, default='relu'\n",
       "    Activation function for the hidden layer.\n",
       "\n",
       "    - 'identity', no-op activation, useful to implement linear bottleneck,\n",
       "      returns f(x) = x\n",
       "\n",
       "    - 'logistic', the logistic sigmoid function,\n",
       "      returns f(x) = 1 / (1 + exp(-x)).\n",
       "\n",
       "    - 'tanh', the hyperbolic tan function,\n",
       "      returns f(x) = tanh(x).\n",
       "\n",
       "    - 'relu', the rectified linear unit function,\n",
       "      returns f(x) = max(0, x)\n",
       "\n",
       "solver : {'lbfgs', 'sgd', 'adam'}, default='adam'\n",
       "    The solver for weight optimization.\n",
       "\n",
       "    - 'lbfgs' is an optimizer in the family of quasi-Newton methods.\n",
       "\n",
       "    - 'sgd' refers to stochastic gradient descent.\n",
       "\n",
       "    - 'adam' refers to a stochastic gradient-based optimizer proposed by\n",
       "      Kingma, Diederik, and Jimmy Ba\n",
       "\n",
       "    Note: The default solver 'adam' works pretty well on relatively\n",
       "    large datasets (with thousands of training samples or more) in terms of\n",
       "    both training time and validation score.\n",
       "    For small datasets, however, 'lbfgs' can converge faster and perform\n",
       "    better.\n",
       "\n",
       "alpha : float, default=0.0001\n",
       "    L2 penalty (regularization term) parameter.\n",
       "\n",
       "batch_size : int, default='auto'\n",
       "    Size of minibatches for stochastic optimizers.\n",
       "    If the solver is 'lbfgs', the classifier will not use minibatch.\n",
       "    When set to \"auto\", `batch_size=min(200, n_samples)`\n",
       "\n",
       "learning_rate : {'constant', 'invscaling', 'adaptive'}, default='constant'\n",
       "    Learning rate schedule for weight updates.\n",
       "\n",
       "    - 'constant' is a constant learning rate given by\n",
       "      'learning_rate_init'.\n",
       "\n",
       "    - 'invscaling' gradually decreases the learning rate ``learning_rate_``\n",
       "      at each time step 't' using an inverse scaling exponent of 'power_t'.\n",
       "      effective_learning_rate = learning_rate_init / pow(t, power_t)\n",
       "\n",
       "    - 'adaptive' keeps the learning rate constant to\n",
       "      'learning_rate_init' as long as training loss keeps decreasing.\n",
       "      Each time two consecutive epochs fail to decrease training loss by at\n",
       "      least tol, or fail to increase validation score by at least tol if\n",
       "      'early_stopping' is on, the current learning rate is divided by 5.\n",
       "\n",
       "    Only used when solver='sgd'.\n",
       "\n",
       "learning_rate_init : double, default=0.001\n",
       "    The initial learning rate used. It controls the step-size\n",
       "    in updating the weights. Only used when solver='sgd' or 'adam'.\n",
       "\n",
       "power_t : double, default=0.5\n",
       "    The exponent for inverse scaling learning rate.\n",
       "    It is used in updating effective learning rate when the learning_rate\n",
       "    is set to 'invscaling'. Only used when solver='sgd'.\n",
       "\n",
       "max_iter : int, default=200\n",
       "    Maximum number of iterations. The solver iterates until convergence\n",
       "    (determined by 'tol') or this number of iterations. For stochastic\n",
       "    solvers ('sgd', 'adam'), note that this determines the number of epochs\n",
       "    (how many times each data point will be used), not the number of\n",
       "    gradient steps.\n",
       "\n",
       "shuffle : bool, default=True\n",
       "    Whether to shuffle samples in each iteration. Only used when\n",
       "    solver='sgd' or 'adam'.\n",
       "\n",
       "random_state : int, RandomState instance, default=None\n",
       "    Determines random number generation for weights and bias\n",
       "    initialization, train-test split if early stopping is used, and batch\n",
       "    sampling when solver='sgd' or 'adam'.\n",
       "    Pass an int for reproducible results across multiple function calls.\n",
       "    See :term:`Glossary <random_state>`.\n",
       "\n",
       "tol : float, default=1e-4\n",
       "    Tolerance for the optimization. When the loss or score is not improving\n",
       "    by at least ``tol`` for ``n_iter_no_change`` consecutive iterations,\n",
       "    unless ``learning_rate`` is set to 'adaptive', convergence is\n",
       "    considered to be reached and training stops.\n",
       "\n",
       "verbose : bool, default=False\n",
       "    Whether to print progress messages to stdout.\n",
       "\n",
       "warm_start : bool, default=False\n",
       "    When set to True, reuse the solution of the previous\n",
       "    call to fit as initialization, otherwise, just erase the\n",
       "    previous solution. See :term:`the Glossary <warm_start>`.\n",
       "\n",
       "momentum : float, default=0.9\n",
       "    Momentum for gradient descent update.  Should be between 0 and 1. Only\n",
       "    used when solver='sgd'.\n",
       "\n",
       "nesterovs_momentum : boolean, default=True\n",
       "    Whether to use Nesterov's momentum. Only used when solver='sgd' and\n",
       "    momentum > 0.\n",
       "\n",
       "early_stopping : bool, default=False\n",
       "    Whether to use early stopping to terminate training when validation\n",
       "    score is not improving. If set to true, it will automatically set\n",
       "    aside 10% of training data as validation and terminate training when\n",
       "    validation score is not improving by at least ``tol`` for\n",
       "    ``n_iter_no_change`` consecutive epochs.\n",
       "    Only effective when solver='sgd' or 'adam'\n",
       "\n",
       "validation_fraction : float, default=0.1\n",
       "    The proportion of training data to set aside as validation set for\n",
       "    early stopping. Must be between 0 and 1.\n",
       "    Only used if early_stopping is True\n",
       "\n",
       "beta_1 : float, default=0.9\n",
       "    Exponential decay rate for estimates of first moment vector in adam,\n",
       "    should be in [0, 1). Only used when solver='adam'\n",
       "\n",
       "beta_2 : float, default=0.999\n",
       "    Exponential decay rate for estimates of second moment vector in adam,\n",
       "    should be in [0, 1). Only used when solver='adam'\n",
       "\n",
       "epsilon : float, default=1e-8\n",
       "    Value for numerical stability in adam. Only used when solver='adam'\n",
       "\n",
       "n_iter_no_change : int, default=10\n",
       "    Maximum number of epochs to not meet ``tol`` improvement.\n",
       "    Only effective when solver='sgd' or 'adam'\n",
       "\n",
       "    .. versionadded:: 0.20\n",
       "\n",
       "max_fun : int, default=15000\n",
       "    Only used when solver='lbfgs'. Maximum number of function calls.\n",
       "    The solver iterates until convergence (determined by 'tol'), number\n",
       "    of iterations reaches max_iter, or this number of function calls.\n",
       "    Note that number of function calls will be greater than or equal to\n",
       "    the number of iterations for the MLPRegressor.\n",
       "\n",
       "    .. versionadded:: 0.22\n",
       "\n",
       "Attributes\n",
       "----------\n",
       "loss_ : float\n",
       "    The current loss computed with the loss function.\n",
       "\n",
       "coefs_ : list, length n_layers - 1\n",
       "    The ith element in the list represents the weight matrix corresponding\n",
       "    to layer i.\n",
       "\n",
       "intercepts_ : list, length n_layers - 1\n",
       "    The ith element in the list represents the bias vector corresponding to\n",
       "    layer i + 1.\n",
       "\n",
       "n_iter_ : int,\n",
       "    The number of iterations the solver has ran.\n",
       "\n",
       "n_layers_ : int\n",
       "    Number of layers.\n",
       "\n",
       "n_outputs_ : int\n",
       "    Number of outputs.\n",
       "\n",
       "out_activation_ : string\n",
       "    Name of the output activation function.\n",
       "\n",
       "Examples\n",
       "--------\n",
       ">>> from sklearn.neural_network import MLPRegressor\n",
       ">>> from sklearn.datasets import make_regression\n",
       ">>> from sklearn.model_selection import train_test_split\n",
       ">>> X, y = make_regression(n_samples=200, random_state=1)\n",
       ">>> X_train, X_test, y_train, y_test = train_test_split(X, y,\n",
       "...                                                     random_state=1)\n",
       ">>> regr = MLPRegressor(random_state=1, max_iter=500).fit(X_train, y_train)\n",
       ">>> regr.predict(X_test[:2])\n",
       "array([-0.9..., -7.1...])\n",
       ">>> regr.score(X_test, y_test)\n",
       "0.4...\n",
       "\n",
       "Notes\n",
       "-----\n",
       "MLPRegressor trains iteratively since at each time step\n",
       "the partial derivatives of the loss function with respect to the model\n",
       "parameters are computed to update the parameters.\n",
       "\n",
       "It can also have a regularization term added to the loss function\n",
       "that shrinks model parameters to prevent overfitting.\n",
       "\n",
       "This implementation works with data represented as dense and sparse numpy\n",
       "arrays of floating point values.\n",
       "\n",
       "References\n",
       "----------\n",
       "Hinton, Geoffrey E.\n",
       "    \"Connectionist learning procedures.\" Artificial intelligence 40.1\n",
       "    (1989): 185-234.\n",
       "\n",
       "Glorot, Xavier, and Yoshua Bengio. \"Understanding the difficulty of\n",
       "    training deep feedforward neural networks.\" International Conference\n",
       "    on Artificial Intelligence and Statistics. 2010.\n",
       "\n",
       "He, Kaiming, et al. \"Delving deep into rectifiers: Surpassing human-level\n",
       "    performance on imagenet classification.\" arXiv preprint\n",
       "    arXiv:1502.01852 (2015).\n",
       "\n",
       "Kingma, Diederik, and Jimmy Ba. \"Adam: A method for stochastic\n",
       "    optimization.\" arXiv preprint arXiv:1412.6980 (2014).\n"
      ]
     },
     "metadata": {},
     "output_type": "display_data"
    }
   ],
   "source": [
    "?mlp_model"
   ]
  },
  {
   "cell_type": "markdown",
   "metadata": {},
   "source": [
    "**Tahmin**"
   ]
  },
  {
   "cell_type": "code",
   "execution_count": 26,
   "metadata": {},
   "outputs": [
    {
     "data": {
      "text/plain": [
       "array([16.30176257, 28.59628561, 56.25911854,  9.48499887, 27.02212038])"
      ]
     },
     "execution_count": 26,
     "metadata": {},
     "output_type": "execute_result"
    }
   ],
   "source": [
    "mlp_model.predict(X_test_scaled)[0:5]"
   ]
  },
  {
   "cell_type": "code",
   "execution_count": 27,
   "metadata": {},
   "outputs": [
    {
     "data": {
      "text/plain": [
       "663.0095368634517"
      ]
     },
     "execution_count": 27,
     "metadata": {},
     "output_type": "execute_result"
    }
   ],
   "source": [
    "y_pred = mlp_model.predict(X_test_scaled)\n",
    "np.sqrt(mean_squared_error(y_test,y_pred))"
   ]
  },
  {
   "cell_type": "markdown",
   "metadata": {},
   "source": [
    "# Model Tuning"
   ]
  },
  {
   "cell_type": "code",
   "execution_count": 28,
   "metadata": {},
   "outputs": [],
   "source": [
    "mlp_params = {\"alpha\": [0.1, 0.01, 0.02, 0.001, 0.0001],\n",
    "             \"hidden_layer_sizes\": [(10,20), (5,5),(100,100)]\n",
    "             }"
   ]
  },
  {
   "cell_type": "code",
   "execution_count": 38,
   "metadata": {},
   "outputs": [
    {
     "name": "stdout",
     "output_type": "stream",
     "text": [
      "Fitting 10 folds for each of 15 candidates, totalling 150 fits\n"
     ]
    },
    {
     "name": "stderr",
     "output_type": "stream",
     "text": [
      "[Parallel(n_jobs=-1)]: Using backend LokyBackend with 8 concurrent workers.\n",
      "[Parallel(n_jobs=-1)]: Done  25 tasks      | elapsed:    5.5s\n",
      "[Parallel(n_jobs=-1)]: Done 150 out of 150 | elapsed:   12.3s finished\n"
     ]
    }
   ],
   "source": [
    "mlp_cv_model = GridSearchCV(mlp_model,mlp_params,cv=10, verbose = 2, n_jobs= -1).fit(X_train_scaled, y_train)"
   ]
  },
  {
   "cell_type": "code",
   "execution_count": 39,
   "metadata": {},
   "outputs": [
    {
     "data": {
      "text/plain": [
       "{'alpha': 0.02, 'hidden_layer_sizes': (100, 100)}"
      ]
     },
     "execution_count": 39,
     "metadata": {},
     "output_type": "execute_result"
    }
   ],
   "source": [
    "mlp_cv_model.best_params_"
   ]
  },
  {
   "cell_type": "markdown",
   "metadata": {},
   "source": [
    "**Final Modeli**"
   ]
  },
  {
   "cell_type": "code",
   "execution_count": 43,
   "metadata": {},
   "outputs": [],
   "source": [
    "mlp_tuned = MLPRegressor(alpha=0.02, hidden_layer_sizes = (100, 100)).fit(X_train_scaled,y_train)"
   ]
  },
  {
   "cell_type": "code",
   "execution_count": 44,
   "metadata": {},
   "outputs": [],
   "source": [
    "y_tuned_pred = mlp_tuned.predict(X_test_scaled)"
   ]
  },
  {
   "cell_type": "code",
   "execution_count": 45,
   "metadata": {},
   "outputs": [
    {
     "data": {
      "text/plain": [
       "354.3546746419776"
      ]
     },
     "execution_count": 45,
     "metadata": {},
     "output_type": "execute_result"
    }
   ],
   "source": [
    "np.sqrt(mean_squared_error(y_test,y_tuned_pred))"
   ]
  },
  {
   "cell_type": "code",
   "execution_count": null,
   "metadata": {},
   "outputs": [],
   "source": []
  }
 ],
 "metadata": {
  "kernelspec": {
   "display_name": "Python 3",
   "language": "python",
   "name": "python3"
  },
  "language_info": {
   "codemirror_mode": {
    "name": "ipython",
    "version": 3
   },
   "file_extension": ".py",
   "mimetype": "text/x-python",
   "name": "python",
   "nbconvert_exporter": "python",
   "pygments_lexer": "ipython3",
   "version": "3.8.5"
  }
 },
 "nbformat": 4,
 "nbformat_minor": 4
}
