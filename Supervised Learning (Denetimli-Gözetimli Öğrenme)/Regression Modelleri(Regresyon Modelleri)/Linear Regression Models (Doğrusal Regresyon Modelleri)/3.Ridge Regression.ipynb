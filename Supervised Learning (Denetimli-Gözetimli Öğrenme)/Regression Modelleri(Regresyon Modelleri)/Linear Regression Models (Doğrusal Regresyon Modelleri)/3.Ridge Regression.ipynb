{
 "cells": [
  {
   "cell_type": "markdown",
   "metadata": {},
   "source": [
    "# **Ridge Regression**\n",
    "- Temel Amaç, hata kareler toplamını(SSE) minimize eden katsayıları bu katsayıları bir ceza uygulayarak bulmaktır.\n",
    "- Ridge Regression için L2 yöntemi denir.\n",
    "\n",
    " **Özellikler**\n",
    "- Aşırı Öğrenmeye karşı dirençlidir.\n",
    "- Yanlıdır fakat varyansı düşüktür.(Bazen yanlı modeller daha çok tercih edilir.)\n",
    "- Çok fazla parametre olduğunda EKK'ya göre daha iyidir. (EKK= En Küçük Kareler Yöntemi)\n",
    "- Çok boyutluluk olaylarına karşı çözüm sunar.\n",
    "- Çoklu doğrusal bağlantı problemi olduğunda etkilidir.\n",
    "- **Tüm değişkenler ile model kurar. İlgisiz değişkenleri modelden çıkarmaz, katsayılarını sıfıra yaklaştırır.**"
   ]
  },
  {
   "cell_type": "markdown",
   "metadata": {},
   "source": [
    "**Gerekli Kütüphaneler**"
   ]
  },
  {
   "cell_type": "code",
   "execution_count": 6,
   "metadata": {},
   "outputs": [],
   "source": [
    "import numpy as np\n",
    "import pandas as pd\n",
    "import matplotlib.pyplot as plt\n",
    "from sklearn.linear_model import Ridge\n",
    "from sklearn.linear_model import RidgeCV\n",
    "from sklearn.model_selection import train_test_split\n",
    "from sklearn.metrics import mean_squared_error,r2_score\n",
    "from sklearn import model_selection\n",
    "from sklearn.model_selection import cross_val_score"
   ]
  },
  {
   "cell_type": "markdown",
   "metadata": {},
   "source": [
    "**Veri Seti**"
   ]
  },
  {
   "cell_type": "code",
   "execution_count": 7,
   "metadata": {},
   "outputs": [],
   "source": [
    "df = pd.read_csv(\"./Hitters.csv\")\n",
    "df = df.dropna()\n",
    "\n",
    "dms = pd.get_dummies(df[[\"League\",\"Division\",\"NewLeague\"]])\n",
    "\n",
    "# bağımlı değişken\n",
    "y = df[[\"Salary\"]]\n",
    "\n",
    "# burada yazdığımız verileri uçurduk drop ile\n",
    "X_ = df.drop([\"Salary\",\"League\",\"Division\",\"NewLeague\"], axis = 1).astype(\"float64\")\n",
    "\n",
    "# dms ile X_ birleştirip(concat) bağımsız değişken oluşturduk.\n",
    "X = pd.concat([X_, dms[[\"League_N\",\"Division_W\",\"NewLeague_N\"]]], axis=1)\n",
    "\n",
    "\n",
    "X_train, X_test, y_train, y_test = train_test_split(X,y,test_size = 0.25, random_state= 42) \n"
   ]
  },
  {
   "cell_type": "markdown",
   "metadata": {},
   "source": [
    "# Model Oluşturma"
   ]
  },
  {
   "cell_type": "code",
   "execution_count": 8,
   "metadata": {},
   "outputs": [
    {
     "data": {
      "text/html": [
       "<div>\n",
       "<style scoped>\n",
       "    .dataframe tbody tr th:only-of-type {\n",
       "        vertical-align: middle;\n",
       "    }\n",
       "\n",
       "    .dataframe tbody tr th {\n",
       "        vertical-align: top;\n",
       "    }\n",
       "\n",
       "    .dataframe thead th {\n",
       "        text-align: right;\n",
       "    }\n",
       "</style>\n",
       "<table border=\"1\" class=\"dataframe\">\n",
       "  <thead>\n",
       "    <tr style=\"text-align: right;\">\n",
       "      <th></th>\n",
       "      <th>AtBat</th>\n",
       "      <th>Hits</th>\n",
       "      <th>HmRun</th>\n",
       "      <th>Runs</th>\n",
       "      <th>RBI</th>\n",
       "      <th>Walks</th>\n",
       "      <th>Years</th>\n",
       "      <th>CAtBat</th>\n",
       "      <th>CHits</th>\n",
       "      <th>CHmRun</th>\n",
       "      <th>CRuns</th>\n",
       "      <th>CRBI</th>\n",
       "      <th>CWalks</th>\n",
       "      <th>League</th>\n",
       "      <th>Division</th>\n",
       "      <th>PutOuts</th>\n",
       "      <th>Assists</th>\n",
       "      <th>Errors</th>\n",
       "      <th>Salary</th>\n",
       "      <th>NewLeague</th>\n",
       "    </tr>\n",
       "  </thead>\n",
       "  <tbody>\n",
       "    <tr>\n",
       "      <th>1</th>\n",
       "      <td>315</td>\n",
       "      <td>81</td>\n",
       "      <td>7</td>\n",
       "      <td>24</td>\n",
       "      <td>38</td>\n",
       "      <td>39</td>\n",
       "      <td>14</td>\n",
       "      <td>3449</td>\n",
       "      <td>835</td>\n",
       "      <td>69</td>\n",
       "      <td>321</td>\n",
       "      <td>414</td>\n",
       "      <td>375</td>\n",
       "      <td>N</td>\n",
       "      <td>W</td>\n",
       "      <td>632</td>\n",
       "      <td>43</td>\n",
       "      <td>10</td>\n",
       "      <td>475.0</td>\n",
       "      <td>N</td>\n",
       "    </tr>\n",
       "    <tr>\n",
       "      <th>2</th>\n",
       "      <td>479</td>\n",
       "      <td>130</td>\n",
       "      <td>18</td>\n",
       "      <td>66</td>\n",
       "      <td>72</td>\n",
       "      <td>76</td>\n",
       "      <td>3</td>\n",
       "      <td>1624</td>\n",
       "      <td>457</td>\n",
       "      <td>63</td>\n",
       "      <td>224</td>\n",
       "      <td>266</td>\n",
       "      <td>263</td>\n",
       "      <td>A</td>\n",
       "      <td>W</td>\n",
       "      <td>880</td>\n",
       "      <td>82</td>\n",
       "      <td>14</td>\n",
       "      <td>480.0</td>\n",
       "      <td>A</td>\n",
       "    </tr>\n",
       "    <tr>\n",
       "      <th>3</th>\n",
       "      <td>496</td>\n",
       "      <td>141</td>\n",
       "      <td>20</td>\n",
       "      <td>65</td>\n",
       "      <td>78</td>\n",
       "      <td>37</td>\n",
       "      <td>11</td>\n",
       "      <td>5628</td>\n",
       "      <td>1575</td>\n",
       "      <td>225</td>\n",
       "      <td>828</td>\n",
       "      <td>838</td>\n",
       "      <td>354</td>\n",
       "      <td>N</td>\n",
       "      <td>E</td>\n",
       "      <td>200</td>\n",
       "      <td>11</td>\n",
       "      <td>3</td>\n",
       "      <td>500.0</td>\n",
       "      <td>N</td>\n",
       "    </tr>\n",
       "    <tr>\n",
       "      <th>4</th>\n",
       "      <td>321</td>\n",
       "      <td>87</td>\n",
       "      <td>10</td>\n",
       "      <td>39</td>\n",
       "      <td>42</td>\n",
       "      <td>30</td>\n",
       "      <td>2</td>\n",
       "      <td>396</td>\n",
       "      <td>101</td>\n",
       "      <td>12</td>\n",
       "      <td>48</td>\n",
       "      <td>46</td>\n",
       "      <td>33</td>\n",
       "      <td>N</td>\n",
       "      <td>E</td>\n",
       "      <td>805</td>\n",
       "      <td>40</td>\n",
       "      <td>4</td>\n",
       "      <td>91.5</td>\n",
       "      <td>N</td>\n",
       "    </tr>\n",
       "    <tr>\n",
       "      <th>5</th>\n",
       "      <td>594</td>\n",
       "      <td>169</td>\n",
       "      <td>4</td>\n",
       "      <td>74</td>\n",
       "      <td>51</td>\n",
       "      <td>35</td>\n",
       "      <td>11</td>\n",
       "      <td>4408</td>\n",
       "      <td>1133</td>\n",
       "      <td>19</td>\n",
       "      <td>501</td>\n",
       "      <td>336</td>\n",
       "      <td>194</td>\n",
       "      <td>A</td>\n",
       "      <td>W</td>\n",
       "      <td>282</td>\n",
       "      <td>421</td>\n",
       "      <td>25</td>\n",
       "      <td>750.0</td>\n",
       "      <td>A</td>\n",
       "    </tr>\n",
       "  </tbody>\n",
       "</table>\n",
       "</div>"
      ],
      "text/plain": [
       "   AtBat  Hits  HmRun  Runs  RBI  Walks  Years  CAtBat  CHits  CHmRun  CRuns  \\\n",
       "1    315    81      7    24   38     39     14    3449    835      69    321   \n",
       "2    479   130     18    66   72     76      3    1624    457      63    224   \n",
       "3    496   141     20    65   78     37     11    5628   1575     225    828   \n",
       "4    321    87     10    39   42     30      2     396    101      12     48   \n",
       "5    594   169      4    74   51     35     11    4408   1133      19    501   \n",
       "\n",
       "   CRBI  CWalks League Division  PutOuts  Assists  Errors  Salary NewLeague  \n",
       "1   414     375      N        W      632       43      10   475.0         N  \n",
       "2   266     263      A        W      880       82      14   480.0         A  \n",
       "3   838     354      N        E      200       11       3   500.0         N  \n",
       "4    46      33      N        E      805       40       4    91.5         N  \n",
       "5   336     194      A        W      282      421      25   750.0         A  "
      ]
     },
     "execution_count": 8,
     "metadata": {},
     "output_type": "execute_result"
    }
   ],
   "source": [
    "df.head()"
   ]
  },
  {
   "cell_type": "code",
   "execution_count": 9,
   "metadata": {},
   "outputs": [
    {
     "data": {
      "text/plain": [
       "(263, 20)"
      ]
     },
     "execution_count": 9,
     "metadata": {},
     "output_type": "execute_result"
    }
   ],
   "source": [
    "df.shape"
   ]
  },
  {
   "cell_type": "code",
   "execution_count": 79,
   "metadata": {},
   "outputs": [],
   "source": [
    "# train seti üzerinden modelimizi eğitiyoruz. test seti üzerinden ise modeli deniyoruz.\n",
    "ridge_model = Ridge(alpha=0.1).fit(X_train,y_train)"
   ]
  },
  {
   "cell_type": "code",
   "execution_count": 80,
   "metadata": {},
   "outputs": [
    {
     "data": {
      "text/plain": [
       "Ridge(alpha=0.1)"
      ]
     },
     "execution_count": 80,
     "metadata": {},
     "output_type": "execute_result"
    }
   ],
   "source": [
    "ridge_model"
   ]
  },
  {
   "cell_type": "code",
   "execution_count": 81,
   "metadata": {},
   "outputs": [
    {
     "data": {
      "text/plain": [
       "array([[ -1.77435737,   8.80240528,   7.29595605,  -3.33257639,\n",
       "         -2.08316481,   5.42531283,   7.58514945,  -0.13752764,\n",
       "         -0.20779701,  -0.60361067,   1.7927957 ,   0.72866408,\n",
       "         -0.68710375,   0.26153564,   0.26888652,  -0.52674278,\n",
       "        112.14640272, -99.80997876, -48.07152768]])"
      ]
     },
     "execution_count": 81,
     "metadata": {},
     "output_type": "execute_result"
    }
   ],
   "source": [
    "# bağımsız değişkenin katsayısı\n",
    "ridge_model.coef_"
   ]
  },
  {
   "cell_type": "code",
   "execution_count": 82,
   "metadata": {},
   "outputs": [
    {
     "data": {
      "text/plain": [
       "array([-4.57862691])"
      ]
     },
     "execution_count": 82,
     "metadata": {},
     "output_type": "execute_result"
    }
   ],
   "source": [
    "#  sabit katsayı değeri\n",
    "ridge_model.intercept_"
   ]
  },
  {
   "cell_type": "code",
   "execution_count": 83,
   "metadata": {},
   "outputs": [
    {
     "data": {
      "text/plain": [
       "array([10.        ,  9.87878788,  9.75757576,  9.63636364,  9.51515152,\n",
       "        9.39393939,  9.27272727,  9.15151515,  9.03030303,  8.90909091,\n",
       "        8.78787879,  8.66666667,  8.54545455,  8.42424242,  8.3030303 ,\n",
       "        8.18181818,  8.06060606,  7.93939394,  7.81818182,  7.6969697 ,\n",
       "        7.57575758,  7.45454545,  7.33333333,  7.21212121,  7.09090909,\n",
       "        6.96969697,  6.84848485,  6.72727273,  6.60606061,  6.48484848,\n",
       "        6.36363636,  6.24242424,  6.12121212,  6.        ,  5.87878788,\n",
       "        5.75757576,  5.63636364,  5.51515152,  5.39393939,  5.27272727,\n",
       "        5.15151515,  5.03030303,  4.90909091,  4.78787879,  4.66666667,\n",
       "        4.54545455,  4.42424242,  4.3030303 ,  4.18181818,  4.06060606,\n",
       "        3.93939394,  3.81818182,  3.6969697 ,  3.57575758,  3.45454545,\n",
       "        3.33333333,  3.21212121,  3.09090909,  2.96969697,  2.84848485,\n",
       "        2.72727273,  2.60606061,  2.48484848,  2.36363636,  2.24242424,\n",
       "        2.12121212,  2.        ,  1.87878788,  1.75757576,  1.63636364,\n",
       "        1.51515152,  1.39393939,  1.27272727,  1.15151515,  1.03030303,\n",
       "        0.90909091,  0.78787879,  0.66666667,  0.54545455,  0.42424242,\n",
       "        0.3030303 ,  0.18181818,  0.06060606, -0.06060606, -0.18181818,\n",
       "       -0.3030303 , -0.42424242, -0.54545455, -0.66666667, -0.78787879,\n",
       "       -0.90909091, -1.03030303, -1.15151515, -1.27272727, -1.39393939,\n",
       "       -1.51515152, -1.63636364, -1.75757576, -1.87878788, -2.        ])"
      ]
     },
     "execution_count": 83,
     "metadata": {},
     "output_type": "execute_result"
    }
   ],
   "source": [
    "np.linspace(10,-2,100)"
   ]
  },
  {
   "cell_type": "code",
   "execution_count": 75,
   "metadata": {},
   "outputs": [
    {
     "data": {
      "text/plain": [
       "array([5.00000000e+09, 3.78231664e+09, 2.86118383e+09, 2.16438064e+09,\n",
       "       1.63727458e+09, 1.23853818e+09, 9.36908711e+08, 7.08737081e+08,\n",
       "       5.36133611e+08, 4.05565415e+08, 3.06795364e+08, 2.32079442e+08,\n",
       "       1.75559587e+08, 1.32804389e+08, 1.00461650e+08, 7.59955541e+07,\n",
       "       5.74878498e+07, 4.34874501e+07, 3.28966612e+07, 2.48851178e+07,\n",
       "       1.88246790e+07, 1.42401793e+07, 1.07721735e+07, 8.14875417e+06,\n",
       "       6.16423370e+06, 4.66301673e+06, 3.52740116e+06, 2.66834962e+06,\n",
       "       2.01850863e+06, 1.52692775e+06, 1.15506485e+06, 8.73764200e+05,\n",
       "       6.60970574e+05, 5.00000000e+05, 3.78231664e+05, 2.86118383e+05,\n",
       "       2.16438064e+05, 1.63727458e+05, 1.23853818e+05, 9.36908711e+04,\n",
       "       7.08737081e+04, 5.36133611e+04, 4.05565415e+04, 3.06795364e+04,\n",
       "       2.32079442e+04, 1.75559587e+04, 1.32804389e+04, 1.00461650e+04,\n",
       "       7.59955541e+03, 5.74878498e+03, 4.34874501e+03, 3.28966612e+03,\n",
       "       2.48851178e+03, 1.88246790e+03, 1.42401793e+03, 1.07721735e+03,\n",
       "       8.14875417e+02, 6.16423370e+02, 4.66301673e+02, 3.52740116e+02,\n",
       "       2.66834962e+02, 2.01850863e+02, 1.52692775e+02, 1.15506485e+02,\n",
       "       8.73764200e+01, 6.60970574e+01, 5.00000000e+01, 3.78231664e+01,\n",
       "       2.86118383e+01, 2.16438064e+01, 1.63727458e+01, 1.23853818e+01,\n",
       "       9.36908711e+00, 7.08737081e+00, 5.36133611e+00, 4.05565415e+00,\n",
       "       3.06795364e+00, 2.32079442e+00, 1.75559587e+00, 1.32804389e+00,\n",
       "       1.00461650e+00, 7.59955541e-01, 5.74878498e-01, 4.34874501e-01,\n",
       "       3.28966612e-01, 2.48851178e-01, 1.88246790e-01, 1.42401793e-01,\n",
       "       1.07721735e-01, 8.14875417e-02, 6.16423370e-02, 4.66301673e-02,\n",
       "       3.52740116e-02, 2.66834962e-02, 2.01850863e-02, 1.52692775e-02,\n",
       "       1.15506485e-02, 8.73764200e-03, 6.60970574e-03, 5.00000000e-03])"
      ]
     },
     "execution_count": 75,
     "metadata": {},
     "output_type": "execute_result"
    }
   ],
   "source": [
    "lambdalar = 10**np.linspace(10,-2,100, endpoint = True )*0.5\n",
    "lambdalar"
   ]
  },
  {
   "cell_type": "code",
   "execution_count": 91,
   "metadata": {},
   "outputs": [],
   "source": [
    "katsayilar = []\n",
    "\n",
    "for i in lambdalar:\n",
    "    ridge_model.set_params(alpha = i)\n",
    "    ridge_model.fit(X_train,y_train)\n",
    "    katsayilar.append(ridge_model.intercept_)"
   ]
  },
  {
   "cell_type": "code",
   "execution_count": 92,
   "metadata": {
    "collapsed": true,
    "jupyter": {
     "outputs_hidden": true
    }
   },
   "outputs": [
    {
     "data": {
      "text/plain": [
       "[array([489.00309697]),\n",
       " array([475.60442697]),\n",
       " array([460.0775107]),\n",
       " array([442.60192715]),\n",
       " array([423.55744169]),\n",
       " array([403.50111563]),\n",
       " array([383.09571433]),\n",
       " array([363.00308471]),\n",
       " array([343.77243809]),\n",
       " array([325.75594906]),\n",
       " array([309.07115652]),\n",
       " array([293.61038479]),\n",
       " array([279.0833432]),\n",
       " array([265.07551766]),\n",
       " array([251.10950794]),\n",
       " array([236.70331125]),\n",
       " array([221.42406032]),\n",
       " array([204.9361604]),\n",
       " array([187.04017657]),\n",
       " array([167.69625177]),\n",
       " array([147.02682054]),\n",
       " array([125.2992661]),\n",
       " array([102.89680562]),\n",
       " array([80.28901426]),\n",
       " array([58.00824673]),\n",
       " array([36.62817556]),\n",
       " array([16.73407131]),\n",
       " array([-1.12289742]),\n",
       " array([-16.48482738]),\n",
       " array([-29.04644035]),\n",
       " array([-38.69670577]),\n",
       " array([-45.52831976]),\n",
       " array([-49.81016676]),\n",
       " array([-51.92934305]),\n",
       " array([-52.31849127]),\n",
       " array([-51.38765481]),\n",
       " array([-49.47631112]),\n",
       " array([-46.83273978]),\n",
       " array([-43.6188408]),\n",
       " array([-39.93267562]),\n",
       " array([-35.83924936]),\n",
       " array([-31.40095967]),\n",
       " array([-26.70098599]),\n",
       " array([-21.85504969]),\n",
       " array([-17.00973427]),\n",
       " array([-12.32903907]),\n",
       " array([-7.97419552]),\n",
       " array([-4.08348811]),\n",
       " array([-0.75792788]),\n",
       " array([1.94435386]),\n",
       " array([4.00552429]),\n",
       " array([5.44009708]),\n",
       " array([6.28509213]),\n",
       " array([6.59122733]),\n",
       " array([6.41689831]),\n",
       " array([5.82540514]),\n",
       " array([4.88475665]),\n",
       " array([3.66866831]),\n",
       " array([2.25727128]),\n",
       " array([0.7365957]),\n",
       " array([-0.80327763]),\n",
       " array([-2.27108149]),\n",
       " array([-3.57836883]),\n",
       " array([-4.64562455]),\n",
       " array([-5.41138198]),\n",
       " array([-5.84337597]),\n",
       " array([-5.94791134]),\n",
       " array([-5.77222241]),\n",
       " array([-5.39660949]),\n",
       " array([-4.91781648]),\n",
       " array([-4.4292757]),\n",
       " array([-4.00474176]),\n",
       " array([-3.68946108]),\n",
       " array([-3.49950943]),\n",
       " array([-3.42730294]),\n",
       " array([-3.45021675]),\n",
       " array([-3.5394072]),\n",
       " array([-3.66679837]),\n",
       " array([-3.80932524]),\n",
       " array([-3.95054732]),\n",
       " array([-4.08037189]),\n",
       " array([-4.19378518]),\n",
       " array([-4.28931557]),\n",
       " array([-4.36765984]),\n",
       " array([-4.4306444]),\n",
       " array([-4.48053106]),\n",
       " array([-4.51960247]),\n",
       " array([-4.5499452]),\n",
       " array([-4.57335891]),\n",
       " array([-4.59133871]),\n",
       " array([-4.60509526]),\n",
       " array([-4.61559147]),\n",
       " array([-4.62358329]),\n",
       " array([-4.62965863]),\n",
       " array([-4.63427155]),\n",
       " array([-4.6377709]),\n",
       " array([-4.64042367]),\n",
       " array([-4.64243363]),\n",
       " array([-4.64395595]),\n",
       " array([-4.64510859])]"
      ]
     },
     "execution_count": 92,
     "metadata": {},
     "output_type": "execute_result"
    }
   ],
   "source": [
    "katsayilar"
   ]
  },
  {
   "cell_type": "code",
   "execution_count": 93,
   "metadata": {},
   "outputs": [
    {
     "data": {
      "image/png": "[encoded data removed]",
      "text/plain": [
       "<Figure size 432x288 with 1 Axes>"
      ]
     },
     "metadata": {
      "needs_background": "light"
     },
     "output_type": "display_data"
    }
   ],
   "source": [
    "ax = plt.gca()\n",
    "ax.plot(lambdalar,katsayilar,\"g\")\n",
    "ax.set_xscale(\"log\")"
   ]
  },
  {
   "cell_type": "markdown",
   "metadata": {},
   "source": [
    "# Tahmin"
   ]
  },
  {
   "cell_type": "code",
   "execution_count": 19,
   "metadata": {},
   "outputs": [],
   "source": [
    "# modeli kurduk fit ettik\n",
    "ridge_model = Ridge().fit(X_train,y_train)"
   ]
  },
  {
   "cell_type": "code",
   "execution_count": 20,
   "metadata": {},
   "outputs": [],
   "source": [
    "# X_train setinin bağımsız değişkenlerini kullanarak tahmin etme işlemi yaptık ve y bağımlı değişkenlerini tahmin etttik.\n",
    "y_predicted = ridge_model.predict(X_train)"
   ]
  },
  {
   "cell_type": "code",
   "execution_count": 21,
   "metadata": {},
   "outputs": [
    {
     "data": {
      "text/plain": [
       "array([[ 376.25245449],\n",
       "       [ 803.38498121],\n",
       "       [ 496.17669652],\n",
       "       [ 112.69554648],\n",
       "       [ 427.60020221],\n",
       "       [1003.6309402 ],\n",
       "       [ 153.45713944],\n",
       "       [ 361.33880956],\n",
       "       [ 483.29143665],\n",
       "       [ 916.91439669]])"
      ]
     },
     "execution_count": 21,
     "metadata": {},
     "output_type": "execute_result"
    }
   ],
   "source": [
    "# y nin tahmin edilen değerleri \n",
    "y_predicted[0:10]"
   ]
  },
  {
   "cell_type": "code",
   "execution_count": 22,
   "metadata": {},
   "outputs": [
    {
     "data": {
      "text/html": [
       "<div>\n",
       "<style scoped>\n",
       "    .dataframe tbody tr th:only-of-type {\n",
       "        vertical-align: middle;\n",
       "    }\n",
       "\n",
       "    .dataframe tbody tr th {\n",
       "        vertical-align: top;\n",
       "    }\n",
       "\n",
       "    .dataframe thead th {\n",
       "        text-align: right;\n",
       "    }\n",
       "</style>\n",
       "<table border=\"1\" class=\"dataframe\">\n",
       "  <thead>\n",
       "    <tr style=\"text-align: right;\">\n",
       "      <th></th>\n",
       "      <th>Salary</th>\n",
       "    </tr>\n",
       "  </thead>\n",
       "  <tbody>\n",
       "    <tr>\n",
       "      <th>183</th>\n",
       "      <td>125.0</td>\n",
       "    </tr>\n",
       "    <tr>\n",
       "      <th>229</th>\n",
       "      <td>1940.0</td>\n",
       "    </tr>\n",
       "    <tr>\n",
       "      <th>286</th>\n",
       "      <td>940.0</td>\n",
       "    </tr>\n",
       "    <tr>\n",
       "      <th>102</th>\n",
       "      <td>375.0</td>\n",
       "    </tr>\n",
       "    <tr>\n",
       "      <th>153</th>\n",
       "      <td>100.0</td>\n",
       "    </tr>\n",
       "    <tr>\n",
       "      <th>320</th>\n",
       "      <td>960.0</td>\n",
       "    </tr>\n",
       "    <tr>\n",
       "      <th>135</th>\n",
       "      <td>90.0</td>\n",
       "    </tr>\n",
       "    <tr>\n",
       "      <th>213</th>\n",
       "      <td>100.0</td>\n",
       "    </tr>\n",
       "    <tr>\n",
       "      <th>308</th>\n",
       "      <td>750.0</td>\n",
       "    </tr>\n",
       "    <tr>\n",
       "      <th>161</th>\n",
       "      <td>657.0</td>\n",
       "    </tr>\n",
       "  </tbody>\n",
       "</table>\n",
       "</div>"
      ],
      "text/plain": [
       "     Salary\n",
       "183   125.0\n",
       "229  1940.0\n",
       "286   940.0\n",
       "102   375.0\n",
       "153   100.0\n",
       "320   960.0\n",
       "135    90.0\n",
       "213   100.0\n",
       "308   750.0\n",
       "161   657.0"
      ]
     },
     "execution_count": 22,
     "metadata": {},
     "output_type": "execute_result"
    }
   ],
   "source": [
    "# y nin gerçek değerleri\n",
    "y_train[0:10]"
   ]
  },
  {
   "cell_type": "code",
   "execution_count": 2,
   "metadata": {},
   "outputs": [
    {
     "ename": "NameError",
     "evalue": "name 'np' is not defined",
     "output_type": "error",
     "traceback": [
      "\u001b[1;31m---------------------------------------------------------------------------\u001b[0m",
      "\u001b[1;31mNameError\u001b[0m                                 Traceback (most recent call last)",
      "\u001b[1;32m<ipython-input-2-e949389c4498>\u001b[0m in \u001b[0;36m<module>\u001b[1;34m\u001b[0m\n\u001b[0;32m      1\u001b[0m \u001b[1;31m# train hatası\u001b[0m\u001b[1;33m\u001b[0m\u001b[1;33m\u001b[0m\u001b[1;33m\u001b[0m\u001b[0m\n\u001b[0;32m      2\u001b[0m \u001b[1;31m# MSE = hata kareler ortalaması\u001b[0m\u001b[1;33m\u001b[0m\u001b[1;33m\u001b[0m\u001b[1;33m\u001b[0m\u001b[0m\n\u001b[1;32m----> 3\u001b[1;33m \u001b[0mMSE\u001b[0m \u001b[1;33m=\u001b[0m \u001b[0mnp\u001b[0m\u001b[1;33m.\u001b[0m\u001b[0msqrt\u001b[0m\u001b[1;33m(\u001b[0m\u001b[0mmean_squared_error\u001b[0m\u001b[1;33m(\u001b[0m\u001b[0my_train\u001b[0m\u001b[1;33m,\u001b[0m\u001b[0my_predicted\u001b[0m\u001b[1;33m)\u001b[0m\u001b[1;33m)\u001b[0m\u001b[1;33m\u001b[0m\u001b[1;33m\u001b[0m\u001b[0m\n\u001b[0m\u001b[0;32m      4\u001b[0m \u001b[0mMSE\u001b[0m\u001b[1;33m\u001b[0m\u001b[1;33m\u001b[0m\u001b[0m\n",
      "\u001b[1;31mNameError\u001b[0m: name 'np' is not defined"
     ]
    }
   ],
   "source": [
    "# train hatası \n",
    "# MSE = hata kareler ortalaması\n",
    "MSE = np.sqrt(mean_squared_error(y_train,y_predicted))\n",
    "MSE"
   ]
  },
  {
   "cell_type": "code",
   "execution_count": 24,
   "metadata": {},
   "outputs": [
    {
     "data": {
      "text/plain": [
       "123477.15188321727"
      ]
     },
     "execution_count": 24,
     "metadata": {},
     "output_type": "execute_result"
    }
   ],
   "source": [
    "# cv mse \n",
    "np.mean(-cross_val_score(ridge_model,X_train,y_train, cv=10, scoring= \"neg_mean_squared_error\"))"
   ]
  },
  {
   "cell_type": "code",
   "execution_count": 25,
   "metadata": {},
   "outputs": [
    {
     "data": {
      "text/plain": [
       "351.3931585606317"
      ]
     },
     "execution_count": 25,
     "metadata": {},
     "output_type": "execute_result"
    }
   ],
   "source": [
    "# cv rmse\n",
    "np.sqrt(np.mean(-cross_val_score(ridge_model,X_train,y_train, cv=10, scoring= \"neg_mean_squared_error\")))"
   ]
  },
  {
   "cell_type": "code",
   "execution_count": 26,
   "metadata": {},
   "outputs": [],
   "source": [
    "#  X_test seti üzeriden y yi tahmin ettik \n",
    "y_predicted = ridge_model.predict(X_test)"
   ]
  },
  {
   "cell_type": "code",
   "execution_count": 27,
   "metadata": {},
   "outputs": [
    {
     "data": {
      "text/plain": [
       "356.8082905730238"
      ]
     },
     "execution_count": 27,
     "metadata": {},
     "output_type": "execute_result"
    }
   ],
   "source": [
    "# test hatası \n",
    "# burada y_predicted (tahmin edilen y) ile y_test(gerçek y değeri) ni karşılaştırarak hatayı hesapladık.\n",
    "RMSE = np.sqrt(mean_squared_error(y_test,y_predicted))\n",
    "RMSE"
   ]
  },
  {
   "cell_type": "markdown",
   "metadata": {},
   "source": [
    "# Model Tuning"
   ]
  },
  {
   "cell_type": "code",
   "execution_count": 28,
   "metadata": {},
   "outputs": [
    {
     "data": {
      "text/plain": [
       "356.8082905730238"
      ]
     },
     "execution_count": 28,
     "metadata": {},
     "output_type": "execute_result"
    }
   ],
   "source": [
    "ridge_model = Ridge(1).fit(X_train,y_train)\n",
    "y_predicted = ridge_model.predict(X_test)\n",
    "np.sqrt(mean_squared_error(y_test,y_predicted))"
   ]
  },
  {
   "cell_type": "code",
   "execution_count": 29,
   "metadata": {},
   "outputs": [
    {
     "data": {
      "text/plain": [
       "array([ 88, 625, 211, 142,  77, 612, 415, 616, 490, 366, 622,  33, 288,\n",
       "       447, 182,  12, 298,  84,  50, 333, 165, 591, 338, 300, 442, 471,\n",
       "       443, 820, 435, 371, 873, 578, 512, 325, 874, 550, 444, 693, 606,\n",
       "       626, 101, 146, 287,  33, 128, 794, 521, 181, 560,  88, 273, 713,\n",
       "       862, 897, 524, 903, 754, 279, 154, 742, 961, 446, 764, 696, 545,\n",
       "       241,  21, 842, 561, 564, 758, 874, 704, 440, 251, 758, 789, 835,\n",
       "       246, 870, 352, 899, 950, 666,  17, 175, 265, 914, 124, 243, 902,\n",
       "       954, 695, 330, 381, 518, 412, 148, 791, 247])"
      ]
     },
     "execution_count": 29,
     "metadata": {},
     "output_type": "execute_result"
    }
   ],
   "source": [
    "np.random.randint(0,1000,100)"
   ]
  },
  {
   "cell_type": "code",
   "execution_count": 30,
   "metadata": {},
   "outputs": [],
   "source": [
    "lambdalar1 = np.random.randint(0,1000,100)"
   ]
  },
  {
   "cell_type": "code",
   "execution_count": 31,
   "metadata": {},
   "outputs": [],
   "source": [
    "lambdalar2 = 10**np.linspace(10,-2,100)*0.5"
   ]
  },
  {
   "cell_type": "code",
   "execution_count": 32,
   "metadata": {},
   "outputs": [
    {
     "data": {
      "text/plain": [
       "RidgeCV(alphas=array([5.00000000e+09, 3.78231664e+09, 2.86118383e+09, 2.16438064e+09,\n",
       "       1.63727458e+09, 1.23853818e+09, 9.36908711e+08, 7.08737081e+08,\n",
       "       5.36133611e+08, 4.05565415e+08, 3.06795364e+08, 2.32079442e+08,\n",
       "       1.75559587e+08, 1.32804389e+08, 1.00461650e+08, 7.59955541e+07,\n",
       "       5.74878498e+07, 4.34874501e+07, 3.28966612e+07, 2.48851178e+07,\n",
       "       1.88246790e+07, 1.42401793e+0...\n",
       "       1.00461650e+00, 7.59955541e-01, 5.74878498e-01, 4.34874501e-01,\n",
       "       3.28966612e-01, 2.48851178e-01, 1.88246790e-01, 1.42401793e-01,\n",
       "       1.07721735e-01, 8.14875417e-02, 6.16423370e-02, 4.66301673e-02,\n",
       "       3.52740116e-02, 2.66834962e-02, 2.01850863e-02, 1.52692775e-02,\n",
       "       1.15506485e-02, 8.73764200e-03, 6.60970574e-03, 5.00000000e-03]),\n",
       "        cv=10, normalize=True, scoring='neg_mean_squared_error')"
      ]
     },
     "execution_count": 32,
     "metadata": {},
     "output_type": "execute_result"
    }
   ],
   "source": [
    "# lambdalar2 ye göre işlemler\n",
    "ridgeCV = RidgeCV(alphas= lambdalar2, scoring= \"neg_mean_squared_error\", cv=10, normalize=True)\n",
    "ridgeCV.fit(X_train,y_train)\n"
   ]
  },
  {
   "cell_type": "code",
   "execution_count": 33,
   "metadata": {},
   "outputs": [
    {
     "data": {
      "text/plain": [
       "0.7599555414764666"
      ]
     },
     "execution_count": 33,
     "metadata": {},
     "output_type": "execute_result"
    }
   ],
   "source": [
    "# bu oluşturduğummuz model için optimum parametre \n",
    "ridgeCV.alpha_"
   ]
  },
  {
   "cell_type": "code",
   "execution_count": 34,
   "metadata": {},
   "outputs": [],
   "source": [
    "# fibak modeli \n",
    "ridge_tuning = Ridge(alpha= ridgeCV.alpha_).fit(X_train,y_train)"
   ]
  },
  {
   "cell_type": "code",
   "execution_count": 35,
   "metadata": {},
   "outputs": [
    {
     "data": {
      "text/plain": [
       "356.8583047271521"
      ]
     },
     "execution_count": 35,
     "metadata": {},
     "output_type": "execute_result"
    }
   ],
   "source": [
    "# Test hatası hesaplaması ridge_tuning e göre \n",
    "y_predicted = ridge_tuning.predict(X_test)\n",
    "np.sqrt(mean_squared_error(y_test,y_predicted))"
   ]
  },
  {
   "cell_type": "code",
   "execution_count": 36,
   "metadata": {},
   "outputs": [
    {
     "data": {
      "text/plain": [
       "RidgeCV(alphas=array([583, 422, 788, 630, 212, 383, 688, 226, 681,  95, 608, 614,   5,\n",
       "       482, 346, 963, 724, 334, 920, 987,   2, 124, 122, 950, 948, 751,\n",
       "       478, 987, 884,  20, 161, 709, 604, 734, 982, 531, 232, 358, 435,\n",
       "       656, 565, 800, 705, 900, 967, 895, 772, 698, 341, 401, 751,  48,\n",
       "       456, 495, 849, 806, 306, 567, 591, 109,  47, 758, 193, 854,   7,\n",
       "       497, 869, 675, 447, 540, 222, 541, 284, 533, 974, 830,  46, 619,\n",
       "       524, 549, 135, 443,  25, 507, 297, 223,  83, 829, 446, 306, 299,\n",
       "       383,  20, 891,  56, 391,  13, 374, 724, 851]),\n",
       "        cv=10, normalize=True, scoring='neg_mean_squared_error')"
      ]
     },
     "execution_count": 36,
     "metadata": {},
     "output_type": "execute_result"
    }
   ],
   "source": [
    "# lambdalar1 e göre işlemler \n",
    "ridgeCV = RidgeCV(alphas= lambdalar1, scoring= \"neg_mean_squared_error\", cv=10, normalize=True)\n",
    "ridgeCV.fit(X_train,y_train)"
   ]
  },
  {
   "cell_type": "code",
   "execution_count": 37,
   "metadata": {},
   "outputs": [
    {
     "data": {
      "text/plain": [
       "2"
      ]
     },
     "execution_count": 37,
     "metadata": {},
     "output_type": "execute_result"
    }
   ],
   "source": [
    "ridgeCV.alpha_"
   ]
  },
  {
   "cell_type": "code",
   "execution_count": 38,
   "metadata": {},
   "outputs": [],
   "source": [
    "ridge_tuning = Ridge(alpha= ridgeCV.alpha_).fit(X_train,y_train)"
   ]
  },
  {
   "cell_type": "code",
   "execution_count": 39,
   "metadata": {},
   "outputs": [
    {
     "data": {
      "text/plain": [
       "356.64335435636804"
      ]
     },
     "execution_count": 39,
     "metadata": {},
     "output_type": "execute_result"
    }
   ],
   "source": [
    "y_predicted = ridge_tuning.predict(X_test)\n",
    "np.sqrt(mean_squared_error(y_test,y_predicted))"
   ]
  }
 ],
 "metadata": {
  "kernelspec": {
   "display_name": "Python 3",
   "language": "python",
   "name": "python3"
  },
  "language_info": {
   "codemirror_mode": {
    "name": "ipython",
    "version": 3
   },
   "file_extension": ".py",
   "mimetype": "text/x-python",
   "name": "python",
   "nbconvert_exporter": "python",
   "pygments_lexer": "ipython3",
   "version": "3.8.5"
  }
 },
 "nbformat": 4,
 "nbformat_minor": 4
}
