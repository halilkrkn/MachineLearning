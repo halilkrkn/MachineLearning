{
 "cells": [
  {
   "cell_type": "markdown",
   "metadata": {},
   "source": [
    "# Metin Madenciligi(Text Mining) & Doğal Dil Isleme(Natural Language Process)\n",
    "\n",
    "- **Metin Madenciliği,**\n",
    "- Text analitiği olarak düşünülebilir. \n",
    "- Metinsel verilerin incelenmesi, analiz edilmesi, yapılarının ve paternlerinin bulunması, veri görselleştirilmesi, kümeleme analizi kullanılarak belgelerin kümelenmesi, mmodelleme çalışmalarının yapılması gibi durumlardır.\n",
    "\n",
    "- **Doğal Dil İşleme,** \n",
    "- Bilgisayarların insanlar gibi metinleri anlayabilmesini sağlamakla uğraşan bilim dalıdır.\n",
    "- Metinlerin içerisindeki zarf,sıfat,tamlama gibi benzeri durumların, cümlelerin,bir yazının kategorisinin betimlenmesi tanımlanmasıdır. \n",
    "- Metin madenciliğinin bir bileşeni veya bir üst kümesidir. "
   ]
  },
  {
   "cell_type": "code",
   "execution_count": null,
   "metadata": {},
   "outputs": [],
   "source": []
  }
 ],
 "metadata": {
  "kernelspec": {
   "display_name": "Python 3",
   "language": "python",
   "name": "python3"
  },
  "language_info": {
   "codemirror_mode": {
    "name": "ipython",
    "version": 3
   },
   "file_extension": ".py",
   "mimetype": "text/x-python",
   "name": "python",
   "nbconvert_exporter": "python",
   "pygments_lexer": "ipython3",
   "version": "3.8.5"
  }
 },
 "nbformat": 4,
 "nbformat_minor": 4
}
